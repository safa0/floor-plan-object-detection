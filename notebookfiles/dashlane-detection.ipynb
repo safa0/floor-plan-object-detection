{
 "cells": [
  {
   "cell_type": "markdown",
   "id": "1e828682",
   "metadata": {},
   "source": [
    "### Floor plan image ROI masking and template matching (OpenCV)\n",
    "\n",
    "This notebook lets you:\n",
    "- Load the provided floor plan image (via path or file upload)\n",
    "- Draw a polygon to create a mask for an ROI\n",
    "- Select a smaller template region inside the ROI\n",
    "- Find and visualize other image areas that match the template (OpenCV template matching)\n",
    "\n",
    "Notes:\n",
    "- All visuals are rendered inline with Matplotlib (no GUI windows).\n",
    "- Works headless; uses `opencv-python-headless`.\n",
    "- You can rerun the selection cells to refine ROI or template.\n"
   ]
  },
  {
   "cell_type": "code",
   "execution_count": 4,
   "id": "97559386",
   "metadata": {
    "vscode": {
     "languageId": "plaintext"
    }
   },
   "outputs": [
    {
     "name": "stdout",
     "output_type": "stream",
     "text": [
      "\u001b[33mWARNING: Running pip as the 'root' user can result in broken permissions and conflicting behaviour with the system package manager, possibly rendering your system unusable. It is recommended to use a virtual environment instead: https://pip.pypa.io/warnings/venv. Use the --root-user-action option if you know what you are doing and want to suppress this warning.\u001b[0m\u001b[33m\n",
      "\u001b[0m\u001b[33mWARNING: Running pip as the 'root' user can result in broken permissions and conflicting behaviour with the system package manager, possibly rendering your system unusable. It is recommended to use a virtual environment instead: https://pip.pypa.io/warnings/venv. Use the --root-user-action option if you know what you are doing and want to suppress this warning.\u001b[0m\u001b[33m\n",
      "\u001b[0m"
     ]
    }
   ],
   "source": [
    "!pip install -q --upgrade pip\n",
    "!pip install -q opencv-python-headless numpy matplotlib scikit-image ipywidgets\n"
   ]
  },
  {
   "cell_type": "code",
   "execution_count": null,
   "id": "c51e19f5",
   "metadata": {},
   "outputs": [
    {
     "data": {
      "application/vnd.jupyter.widget-view+json": {
       "model_id": "6ca4c88b81204be5ba6afc86e4cabdc4",
       "version_major": 2,
       "version_minor": 0
      },
      "text/plain": [
       "VBox(children=(Text(value='', description='Image path:', layout=Layout(width='90%'), placeholder='Absolute pat…"
      ]
     },
     "metadata": {},
     "output_type": "display_data"
    },
    {
     "data": {
      "application/vnd.jupyter.widget-view+json": {
       "model_id": "fa46567b166d459a88b2167eb3a995b4",
       "version_major": 2,
       "version_minor": 0
      },
      "text/plain": [
       "Output()"
      ]
     },
     "metadata": {},
     "output_type": "display_data"
    }
   ],
   "source": [
    "import os\n",
    "from pathlib import Path\n",
    "import numpy as np\n",
    "import cv2\n",
    "import matplotlib.pyplot as plt\n",
    "from matplotlib.widgets import PolygonSelector\n",
    "from matplotlib.path import Path as MplPath\n",
    "import ipywidgets as widgets\n",
    "from IPython.display import display\n",
    "\n",
    "%matplotlib inline\n",
    "\n",
    "# Helper to display images in RGB\n",
    "def show(img, title=None, figsize=(10, 8)):\n",
    "    if img is None:\n",
    "        print(\"None image\")\n",
    "        return\n",
    "    if img.ndim == 2:\n",
    "        rgb = img\n",
    "        cmap = 'gray'\n",
    "    else:\n",
    "        rgb = cv2.cvtColor(img, cv2.COLOR_BGR2RGB)\n",
    "        cmap = None\n",
    "    plt.figure(figsize=figsize)\n",
    "    plt.imshow(rgb, cmap=cmap)\n",
    "    if title:\n",
    "        plt.title(title)\n",
    "    plt.axis('off')\n",
    "    plt.show()\n",
    "\n",
    "# Configure a default image path if present in repo\n",
    "DEFAULT_IMAGE_PATHS = [\n",
    "    \"/workspace/floor-plan-object-detection/floorplan.png\",\n",
    "    \"/workspace/floor-plan-object-detection/floorplan.jpg\",\n",
    "    \"/workspace/floor-plan-object-detection/floorplan.jpeg\",\n",
    "]\n",
    "\n",
    "def find_default_image():\n",
    "    for p in DEFAULT_IMAGE_PATHS:\n",
    "        if os.path.exists(p):\n",
    "            return p\n",
    "    return None\n",
    "\n",
    "image_path_text = widgets.Text(\n",
    "    value=find_default_image() or \"\",\n",
    "    placeholder='Absolute path to image (e.g. /workspace/.../plan.png)',\n",
    "    description='Image path:',\n",
    "    layout=widgets.Layout(width='90%')\n",
    ")\n",
    "file_upload = widgets.FileUpload(accept='image/*', multiple=False, description='Upload image')\n",
    "\n",
    "out = widgets.Output()\n",
    "\n",
    "@out.capture(clear_output=True)\n",
    "def on_change(_):\n",
    "    img = None\n",
    "    path = image_path_text.value.strip()\n",
    "    if path and os.path.exists(path):\n",
    "        img = cv2.imdecode(np.fromfile(path, dtype=np.uint8), cv2.IMREAD_COLOR)\n",
    "        # Fallback if fromfile not needed\n",
    "        if img is None:\n",
    "            img = cv2.imread(path, cv2.IMREAD_COLOR)\n",
    "    elif file_upload.value:\n",
    "        # Read from uploaded\n",
    "        up = next(iter(file_upload.value.values()))\n",
    "        img_bytes = up['content']\n",
    "        img = cv2.imdecode(np.frombuffer(img_bytes, np.uint8), cv2.IMREAD_COLOR)\n",
    "    if img is None:\n",
    "        print(\"Provide a valid image path or upload an image.\")\n",
    "        return\n",
    "    show(img, title='Loaded image')\n",
    "\n",
    "controls = widgets.VBox([\n",
    "    image_path_text,\n",
    "    file_upload,\n",
    "])\n",
    "\n",
    "image_path_text.observe(on_change, names='value')\n",
    "file_upload.observe(on_change, names='value')\n",
    "\n",
    "display(controls, out)\n",
    "\n",
    "# Prime first render if a default path exists\n",
    "on_change(None)\n"
   ]
  },
  {
   "cell_type": "code",
   "execution_count": null,
   "id": "48a16b68",
   "metadata": {},
   "outputs": [
    {
     "ename": "RuntimeError",
     "evalue": "No image loaded. Provide a path or upload above.",
     "output_type": "error",
     "traceback": [
      "\u001b[0;31m---------------------------------------------------------------------------\u001b[0m",
      "\u001b[0;31mRuntimeError\u001b[0m                              Traceback (most recent call last)",
      "Cell \u001b[0;32mIn[3], line 25\u001b[0m\n\u001b[1;32m     23\u001b[0m img \u001b[38;5;241m=\u001b[39m _get_current_image()\n\u001b[1;32m     24\u001b[0m \u001b[38;5;28;01mif\u001b[39;00m img \u001b[38;5;129;01mis\u001b[39;00m \u001b[38;5;28;01mNone\u001b[39;00m:\n\u001b[0;32m---> 25\u001b[0m     \u001b[38;5;28;01mraise\u001b[39;00m \u001b[38;5;167;01mRuntimeError\u001b[39;00m(\u001b[38;5;124m\"\u001b[39m\u001b[38;5;124mNo image loaded. Provide a path or upload above.\u001b[39m\u001b[38;5;124m\"\u001b[39m)\n\u001b[1;32m     26\u001b[0m ax\u001b[38;5;241m.\u001b[39mimshow(cv2\u001b[38;5;241m.\u001b[39mcvtColor(img, cv2\u001b[38;5;241m.\u001b[39mCOLOR_BGR2RGB))\n\u001b[1;32m     27\u001b[0m ax\u001b[38;5;241m.\u001b[39mset_title(\u001b[38;5;124m'\u001b[39m\u001b[38;5;124mDraw polygon ROI and press Enter\u001b[39m\u001b[38;5;124m'\u001b[39m)\n",
      "\u001b[0;31mRuntimeError\u001b[0m: No image loaded. Provide a path or upload above."
     ]
    },
    {
     "data": {
      "image/png": "[encoded data removed]",
      "text/plain": [
       "<Figure size 1000x800 with 1 Axes>"
      ]
     },
     "metadata": {},
     "output_type": "display_data"
    }
   ],
   "source": [
    "# Draw polygon to create ROI mask\n",
    "# Click to add vertices, press 'enter' to finalize or 'esc' to cancel.\n",
    "\n",
    "_loaded_image_cache = {'img': None}\n",
    "\n",
    "def _get_current_image():\n",
    "    # Prefer path text, else last uploaded\n",
    "    path = image_path_text.value.strip()\n",
    "    if path and os.path.exists(path):\n",
    "        img = cv2.imdecode(np.fromfile(path, dtype=np.uint8), cv2.IMREAD_COLOR)\n",
    "        if img is None:\n",
    "            img = cv2.imread(path, cv2.IMREAD_COLOR)\n",
    "        return img\n",
    "    if file_upload.value:\n",
    "        up = next(iter(file_upload.value.values()))\n",
    "        return cv2.imdecode(np.frombuffer(up['content'], np.uint8), cv2.IMREAD_COLOR)\n",
    "    return None\n",
    "\n",
    "roi_mask = None\n",
    "roi_polygon = []\n",
    "\n",
    "fig, ax = plt.subplots(figsize=(10, 8))\n",
    "img = _get_current_image()\n",
    "if img is None:\n",
    "    raise RuntimeError(\"No image loaded. Provide a path or upload above.\")\n",
    "ax.imshow(cv2.cvtColor(img, cv2.COLOR_BGR2RGB))\n",
    "ax.set_title('Draw polygon ROI and press Enter')\n",
    "ax.axis('off')\n",
    "\n",
    "poly_selector_done = widgets.Output()\n",
    "\n",
    "pts_result = {'verts': None}\n",
    "\n",
    "def onselect(verts):\n",
    "    pts_result['verts'] = np.array(verts, dtype=np.float32)\n",
    "\n",
    "selector = PolygonSelector(ax, onselect, useblit=True, props=dict(color='lime', linewidth=2, alpha=0.8))\n",
    "\n",
    "@poly_selector_done.capture(clear_output=True)\n",
    "def finalize(event):\n",
    "    global roi_mask, roi_polygon\n",
    "    if event.key == 'enter' and pts_result['verts'] is not None:\n",
    "        roi_polygon = pts_result['verts']\n",
    "        mask = np.zeros(img.shape[:2], dtype=np.uint8)\n",
    "        cv2.fillPoly(mask, [roi_polygon.astype(np.int32)], 255)\n",
    "        roi_mask = mask\n",
    "        plt.close(fig)\n",
    "        show(cv2.bitwise_and(img, img, mask=roi_mask), title='ROI extracted via polygon mask')\n",
    "\n",
    "fig.canvas.mpl_connect('key_press_event', finalize)\n",
    "plt.show()\n",
    "\n",
    "display(poly_selector_done)\n",
    "\n",
    "# roi_mask and roi_polygon are now set after pressing Enter\n"
   ]
  },
  {
   "cell_type": "code",
   "execution_count": null,
   "id": "a4575d91",
   "metadata": {},
   "outputs": [],
   "source": [
    "# Select a rectangular template region inside the ROI\n",
    "# Click two corners (top-left then bottom-right) within the ROI image.\n",
    "\n",
    "if img is None:\n",
    "    img = _get_current_image()\n",
    "assert roi_mask is not None, \"Run the polygon ROI cell first and press Enter.\"\n",
    "\n",
    "roi_img = cv2.bitwise_and(img, img, mask=roi_mask)\n",
    "\n",
    "fig2, ax2 = plt.subplots(figsize=(10, 8))\n",
    "ax2.imshow(cv2.cvtColor(roi_img, cv2.COLOR_BGR2RGB))\n",
    "ax2.set_title('Click two corners for template (TL then BR)')\n",
    "ax2.axis('off')\n",
    "\n",
    "clicks = []\n",
    "\n",
    "rect_out = widgets.Output()\n",
    "\n",
    "@rect_out.capture(clear_output=True)\n",
    "def on_click(event):\n",
    "    if event.inaxes != ax2:\n",
    "        return\n",
    "    clicks.append((int(event.xdata), int(event.ydata)))\n",
    "    if len(clicks) == 2:\n",
    "        (x1, y1), (x2, y2) = clicks\n",
    "        x1, x2 = sorted([x1, x2])\n",
    "        y1, y2 = sorted([y1, y2])\n",
    "        template = roi_img[y1:y2, x1:x2]\n",
    "        plt.close(fig2)\n",
    "        show(template, title=f'Template {template.shape[1]}x{template.shape[0]}')\n",
    "        globals()['template'] = template\n",
    "\n",
    "fig2.canvas.mpl_connect('button_press_event', on_click)\n",
    "plt.show()\n",
    "\n",
    "display(rect_out)\n",
    "\n",
    "# The selected template is available as variable `template`\n"
   ]
  },
  {
   "cell_type": "code",
   "execution_count": null,
   "id": "c27a2e1d",
   "metadata": {},
   "outputs": [],
   "source": [
    "# Match the template against the full image using OpenCV template matching\n",
    "# We also provide a feature-based ORB matching preview for robustness.\n",
    "\n",
    "assert 'template' in globals(), \"Select a template first.\"\n",
    "full_img = _get_current_image()\n",
    "\n",
    "# Basic normalized cross-correlation template matching\n",
    "method = cv2.TM_CCOEFF_NORMED\n",
    "res = cv2.matchTemplate(cv2.cvtColor(full_img, cv2.COLOR_BGR2GRAY), \n",
    "                        cv2.cvtColor(template, cv2.COLOR_BGR2GRAY), method)\n",
    "\n",
    "threshold_slider = widgets.FloatSlider(value=0.7, min=0.4, max=0.99, step=0.01, description='Thresh:')\n",
    "max_count_slider = widgets.IntSlider(value=20, min=1, max=200, step=1, description='Max boxes:')\n",
    "\n",
    "@widgets.interact(threshold=threshold_slider, max_count=max_count_slider)\n",
    "def _find_matches(threshold, max_count):\n",
    "    matches_img = full_img.copy()\n",
    "    t_h, t_w = template.shape[:2]\n",
    "    loc = np.where(res >= threshold)\n",
    "    points = list(zip(*loc[::-1]))\n",
    "    # Non-maximum suppression: skip close duplicates\n",
    "    picked = []\n",
    "    for pt in points:\n",
    "        if all(abs(pt[0]-q[0]) > t_w//2 or abs(pt[1]-q[1]) > t_h//2 for q in picked):\n",
    "            picked.append(pt)\n",
    "        if len(picked) >= max_count:\n",
    "            break\n",
    "    for pt in picked:\n",
    "        cv2.rectangle(matches_img, pt, (pt[0]+t_w, pt[1]+t_h), (0, 255, 0), 2)\n",
    "    show(matches_img, title=f'Template matches (n={len(picked)})')\n",
    "\n",
    "# Optional: feature-based ORB visualization\n",
    "try:\n",
    "    orb = cv2.ORB_create(nfeatures=2000)\n",
    "    kp1, des1 = orb.detectAndCompute(cv2.cvtColor(template, cv2.COLOR_BGR2GRAY), None)\n",
    "    kp2, des2 = orb.detectAndCompute(cv2.cvtColor(full_img, cv2.COLOR_BGR2GRAY), None)\n",
    "    if des1 is not None and des2 is not None:\n",
    "        bf = cv2.BFMatcher(cv2.NORM_HAMMING, crossCheck=True)\n",
    "        matches = bf.match(des1, des2)\n",
    "        matches = sorted(matches, key=lambda m: m.distance)[:50]\n",
    "        vis = cv2.drawMatches(template, kp1, full_img, kp2, matches, None,\n",
    "                               flags=cv2.DrawMatchesFlags_NOT_DRAW_SINGLE_POINTS)\n",
    "        show(vis, title='ORB feature matches (preview)')\n",
    "except Exception as e:\n",
    "    print('ORB matching preview skipped:', e)\n"
   ]
  },
  {
   "cell_type": "markdown",
   "id": "7c7fae40",
   "metadata": {},
   "source": [
    "### Notes on approach and references\n",
    "\n",
    "- Mask from polygon: create a binary mask and fill with `cv2.fillPoly`, then `bitwise_and` to extract ROI. See OpenCV mask usage and various examples.\n",
    "- Template matching: `cv2.matchTemplate` is simple but sensitive to scale/rotation/illumination changes; use normalized methods like `TM_CCOEFF_NORMED`. For varying scales/rotations, prefer feature methods (ORB/SIFT) and/or multiscale search.\n",
    "- Feature matching: ORB is fast and robust to rotation/scale to a degree; SIFT provides high-quality features (requires `opencv-contrib-python`). You can swap ORB for SIFT easily.\n",
    "\n",
    "References:\n",
    "- OpenCV template matching tutorial: docs.opencv.org/4.x/d4/dc6/tutorial_py_template_matching.html\n",
    "- Polygon to mask with `cv2.fillPoly`: stackoverflow.com/q/30901019\n",
    "- Feature matching overview (ORB, BFMatcher): geeksforgeeks.org/feature-matching-in-opencv/\n"
   ]
  },
  {
   "cell_type": "code",
   "execution_count": null,
   "id": "b7c102e3",
   "metadata": {
    "vscode": {
     "languageId": "plaintext"
    }
   },
   "outputs": [],
   "source": []
  }
 ],
 "metadata": {
  "kernelspec": {
   "display_name": "Python 3 (ipykernel)",
   "language": "python",
   "name": "python3"
  },
  "language_info": {
   "codemirror_mode": {
    "name": "ipython",
    "version": 3
   },
   "file_extension": ".py",
   "mimetype": "text/x-python",
   "name": "python",
   "nbconvert_exporter": "python",
   "pygments_lexer": "ipython3",
   "version": "3.10.12"
  }
 },
 "nbformat": 4,
 "nbformat_minor": 5
}
